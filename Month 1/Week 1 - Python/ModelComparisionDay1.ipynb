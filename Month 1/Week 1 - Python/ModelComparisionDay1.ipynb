{
 "cells": [
  {
   "cell_type": "markdown",
   "metadata": {},
   "source": [
    "### Let's use following models to train and we will test which performs best\n",
    "<p>1. Decision Tree </p>\n",
    "<p>2. SVM </p>\n",
    "<p>3. KNN </p>"
   ]
  },
  {
   "cell_type": "code",
   "execution_count": 41,
   "metadata": {},
   "outputs": [],
   "source": [
    "from sklearn.datasets import make_classification\n",
    "from sklearn.model_selection import train_test_split\n",
    "\n",
    "# creating a random data\n",
    "X, y = make_classification(n_samples = 1000, n_features = 15, n_classes = 3, n_informative = 5)\n",
    "\n",
    "# Splitting for test and train\n",
    "X_train, X_test, y_train, y_test = train_test_split(X, y, test_size=0.3)"
   ]
  },
  {
   "cell_type": "markdown",
   "metadata": {},
   "source": [
    "## Decision tree"
   ]
  },
  {
   "cell_type": "code",
   "execution_count": 42,
   "metadata": {},
   "outputs": [
    {
     "data": {
      "text/plain": [
       "array([0, 0, 1, 2, 2, 2, 0, 1, 0, 1, 2, 1, 2, 2, 1, 1, 1, 0, 0, 0, 2, 0,\n",
       "       2, 0, 1, 2, 1, 1, 2, 2, 1, 2, 2, 0, 2, 0, 0, 1, 2, 2, 1, 1, 2, 2,\n",
       "       0, 2, 0, 2, 1, 2, 2, 0, 1, 0, 1, 0, 1, 1, 1, 2, 1, 2, 2, 1, 1, 2,\n",
       "       1, 1, 0, 2, 1, 2, 1, 0, 1, 0, 1, 1, 2, 2, 2, 0, 2, 0, 1, 2, 0, 1,\n",
       "       0, 2, 0, 1, 0, 2, 1, 0, 1, 1, 0, 0, 0, 1, 0, 0, 1, 0, 0, 2, 2, 0,\n",
       "       0, 0, 2, 0, 0, 2, 2, 2, 0, 1, 2, 1, 2, 1, 0, 2, 1, 2, 1, 2, 1, 0,\n",
       "       0, 1, 1, 2, 0, 1, 2, 2, 0, 2, 1, 0, 1, 1, 0, 2, 1, 1, 0, 1, 2, 2,\n",
       "       2, 2, 0, 1, 0, 2, 1, 1, 2, 2, 0, 0, 0, 2, 0, 2, 2, 1, 1, 0, 2, 2,\n",
       "       0, 1, 2, 2, 2, 1, 1, 0, 1, 2, 2, 0, 1, 1, 2, 1, 1, 0, 2, 0, 0, 2,\n",
       "       0, 0, 1, 0, 2, 2, 1, 0, 2, 2, 0, 2, 1, 2, 1, 1, 2, 2, 1, 1, 1, 2,\n",
       "       0, 2, 1, 2, 1, 0, 0, 1, 0, 2, 1, 1, 2, 2, 1, 2, 0, 0, 0, 2, 1, 1,\n",
       "       1, 0, 1, 2, 2, 2, 2, 2, 1, 2, 0, 1, 0, 0, 0, 1, 2, 2, 2, 1, 2, 1,\n",
       "       1, 2, 2, 2, 2, 2, 0, 1, 0, 1, 0, 2, 2, 0, 0, 1, 1, 1, 0, 1, 1, 2,\n",
       "       0, 1, 0, 1, 0, 1, 0, 1, 2, 0, 2, 1, 0, 0])"
      ]
     },
     "execution_count": 42,
     "metadata": {},
     "output_type": "execute_result"
    }
   ],
   "source": [
    "from sklearn import tree\n",
    "clf_tree = tree.DecisionTreeClassifier()\n",
    "clf_tree = clf_tree.fit(X_train,y_train)\n",
    "\n",
    "predict_tree = clf_tree.predict(X_test)\n",
    "predict_tree"
   ]
  },
  {
   "cell_type": "markdown",
   "metadata": {},
   "source": [
    "## SVM"
   ]
  },
  {
   "cell_type": "code",
   "execution_count": 43,
   "metadata": {},
   "outputs": [
    {
     "data": {
      "text/plain": [
       "array([0, 0, 0, 0, 2, 2, 0, 1, 0, 0, 2, 1, 2, 2, 1, 2, 2, 0, 2, 0, 2, 0,\n",
       "       1, 2, 1, 1, 1, 2, 2, 2, 1, 2, 2, 0, 2, 0, 0, 2, 2, 2, 1, 2, 1, 1,\n",
       "       0, 1, 0, 2, 1, 2, 2, 0, 1, 0, 1, 0, 1, 2, 1, 2, 1, 2, 1, 1, 1, 0,\n",
       "       1, 1, 0, 1, 1, 2, 1, 0, 1, 0, 2, 1, 0, 2, 2, 2, 2, 0, 1, 0, 0, 1,\n",
       "       2, 2, 0, 1, 1, 2, 1, 0, 1, 1, 0, 0, 0, 0, 2, 2, 1, 0, 0, 1, 1, 0,\n",
       "       0, 0, 2, 0, 0, 2, 1, 1, 0, 1, 2, 1, 1, 2, 0, 2, 0, 2, 1, 2, 1, 0,\n",
       "       2, 1, 0, 1, 0, 2, 2, 1, 0, 2, 0, 2, 2, 1, 0, 2, 0, 1, 1, 1, 2, 2,\n",
       "       0, 2, 0, 1, 2, 2, 1, 1, 2, 2, 0, 0, 0, 2, 0, 1, 2, 0, 1, 0, 0, 2,\n",
       "       0, 1, 2, 2, 1, 0, 1, 0, 1, 2, 2, 1, 1, 0, 2, 2, 1, 0, 2, 0, 0, 2,\n",
       "       1, 0, 1, 0, 2, 2, 1, 0, 2, 2, 0, 1, 2, 2, 1, 2, 2, 2, 1, 2, 0, 0,\n",
       "       0, 2, 0, 0, 1, 1, 0, 1, 0, 2, 2, 1, 2, 2, 1, 2, 2, 0, 0, 0, 1, 0,\n",
       "       1, 0, 2, 2, 2, 2, 2, 2, 1, 2, 0, 1, 0, 0, 0, 1, 1, 2, 1, 0, 0, 0,\n",
       "       1, 2, 0, 2, 1, 2, 2, 1, 0, 1, 0, 2, 2, 0, 2, 1, 1, 1, 0, 1, 0, 2,\n",
       "       0, 2, 0, 1, 2, 1, 2, 1, 2, 0, 2, 1, 0, 0])"
      ]
     },
     "execution_count": 43,
     "metadata": {},
     "output_type": "execute_result"
    }
   ],
   "source": [
    "from sklearn.svm import SVC\n",
    "\n",
    "clf_svm = SVC()\n",
    "clf_svm = clf_svm.fit(X_train, y_train)\n",
    "\n",
    "predict_svm = clf_svm.predict(X_test)\n",
    "predict_svm"
   ]
  },
  {
   "cell_type": "markdown",
   "metadata": {},
   "source": [
    "## KNN"
   ]
  },
  {
   "cell_type": "code",
   "execution_count": 44,
   "metadata": {},
   "outputs": [
    {
     "data": {
      "text/plain": [
       "array([0, 0, 0, 0, 2, 2, 0, 1, 0, 0, 2, 1, 2, 0, 2, 0, 2, 0, 2, 0, 2, 0,\n",
       "       1, 2, 1, 2, 1, 2, 2, 1, 1, 2, 2, 0, 2, 0, 0, 2, 2, 1, 1, 0, 1, 1,\n",
       "       1, 1, 0, 2, 1, 2, 1, 0, 1, 0, 1, 0, 1, 1, 1, 2, 1, 2, 1, 1, 1, 0,\n",
       "       1, 1, 0, 1, 1, 2, 1, 0, 1, 0, 2, 1, 0, 2, 2, 2, 2, 0, 1, 0, 0, 1,\n",
       "       2, 1, 0, 1, 0, 2, 1, 0, 1, 1, 0, 0, 0, 0, 2, 2, 1, 0, 0, 1, 2, 0,\n",
       "       0, 0, 2, 0, 0, 2, 2, 1, 0, 1, 2, 1, 2, 2, 0, 2, 0, 2, 1, 2, 1, 0,\n",
       "       2, 1, 0, 1, 0, 2, 2, 1, 0, 0, 0, 2, 2, 1, 0, 1, 1, 1, 1, 1, 2, 2,\n",
       "       0, 2, 0, 1, 2, 1, 1, 1, 2, 2, 0, 0, 0, 1, 0, 0, 2, 0, 1, 0, 0, 1,\n",
       "       0, 0, 2, 2, 1, 0, 1, 0, 1, 0, 2, 0, 1, 2, 2, 1, 2, 0, 2, 0, 0, 2,\n",
       "       1, 0, 2, 0, 2, 2, 2, 0, 2, 2, 0, 1, 2, 2, 1, 1, 2, 2, 1, 2, 0, 0,\n",
       "       0, 2, 0, 0, 1, 1, 0, 1, 0, 2, 0, 1, 2, 2, 1, 2, 1, 0, 0, 0, 1, 0,\n",
       "       1, 0, 2, 2, 0, 2, 2, 2, 1, 2, 0, 1, 0, 0, 0, 1, 0, 2, 1, 0, 0, 0,\n",
       "       1, 1, 0, 2, 1, 2, 2, 1, 0, 1, 0, 2, 1, 0, 2, 1, 0, 0, 0, 1, 0, 2,\n",
       "       0, 2, 0, 1, 2, 1, 2, 1, 2, 0, 2, 1, 0, 0])"
      ]
     },
     "execution_count": 44,
     "metadata": {},
     "output_type": "execute_result"
    }
   ],
   "source": [
    "from sklearn.neighbors import KNeighborsClassifier as KNN\n",
    "\n",
    "clf_knn = KNN()\n",
    "clf_knn = clf_knn.fit(X_train, y_train)\n",
    "\n",
    "predict_knn = clf_knn.predict(X_test)\n",
    "predict_knn"
   ]
  },
  {
   "cell_type": "markdown",
   "metadata": {},
   "source": [
    "# Accuracy"
   ]
  },
  {
   "cell_type": "code",
   "execution_count": 46,
   "metadata": {},
   "outputs": [
    {
     "name": "stdout",
     "output_type": "stream",
     "text": [
      "Accuracy of Decision Tree : 0.6733333333333333\n",
      "Accuracy of SVM : 0.8533333333333334\n",
      "Accuracy of KNN : 0.7933333333333333\n"
     ]
    }
   ],
   "source": [
    "from sklearn.metrics import accuracy_score\n",
    "\n",
    "accuracy_decision = accuracy_score(y_test, predict_tree)\n",
    "accuracy_SVM = accuracy_score(y_test, predict_svm)\n",
    "accuracy_KNN = accuracy_score(y_test, predict_knn)\n",
    "\n",
    "print('Accuracy of Decision Tree : ' + str(accuracy_decision))\n",
    "print('Accuracy of SVM : ' + str(accuracy_SVM))\n",
    "print('Accuracy of KNN : ' + str(accuracy_KNN))"
   ]
  },
  {
   "cell_type": "code",
   "execution_count": 58,
   "metadata": {},
   "outputs": [
    {
     "ename": "ValueError",
     "evalue": "shape mismatch: objects cannot be broadcast to a single shape",
     "output_type": "error",
     "traceback": [
      "\u001b[0;31m---------------------------------------------------------------------------\u001b[0m",
      "\u001b[0;31mValueError\u001b[0m                                Traceback (most recent call last)",
      "\u001b[0;32m<ipython-input-58-46113c76d49d>\u001b[0m in \u001b[0;36m<module>\u001b[0;34m()\u001b[0m\n\u001b[1;32m      1\u001b[0m \u001b[0;32mimport\u001b[0m \u001b[0mmatplotlib\u001b[0m\u001b[0;34m.\u001b[0m\u001b[0mpyplot\u001b[0m \u001b[0;32mas\u001b[0m \u001b[0mplt\u001b[0m\u001b[0;34m\u001b[0m\u001b[0m\n\u001b[1;32m      2\u001b[0m \u001b[0;34m\u001b[0m\u001b[0m\n\u001b[0;32m----> 3\u001b[0;31m \u001b[0mplt\u001b[0m\u001b[0;34m.\u001b[0m\u001b[0mbar\u001b[0m\u001b[0;34m(\u001b[0m\u001b[0;34m[\u001b[0m\u001b[0;34m'Tree'\u001b[0m\u001b[0;34m,\u001b[0m\u001b[0;34m'SVM'\u001b[0m\u001b[0;34m,\u001b[0m\u001b[0;34m'KNN'\u001b[0m\u001b[0;34m]\u001b[0m\u001b[0;34m,\u001b[0m\u001b[0;34m[\u001b[0m\u001b[0maccuracy_decision\u001b[0m\u001b[0;34m,\u001b[0m\u001b[0maccuracy_SVM\u001b[0m\u001b[0;34m,\u001b[0m\u001b[0maccuracy_KNN\u001b[0m\u001b[0;34m]\u001b[0m\u001b[0;34m*\u001b[0m\u001b[0;36m100\u001b[0m\u001b[0;34m,\u001b[0m \u001b[0malpha\u001b[0m \u001b[0;34m=\u001b[0m \u001b[0;36m0.5\u001b[0m\u001b[0;34m)\u001b[0m\u001b[0;34m\u001b[0m\u001b[0m\n\u001b[0m\u001b[1;32m      4\u001b[0m \u001b[0mplt\u001b[0m\u001b[0;34m.\u001b[0m\u001b[0mxlabel\u001b[0m\u001b[0;34m(\u001b[0m\u001b[0;34m'Classifiers'\u001b[0m\u001b[0;34m)\u001b[0m\u001b[0;34m\u001b[0m\u001b[0m\n\u001b[1;32m      5\u001b[0m \u001b[0mplt\u001b[0m\u001b[0;34m.\u001b[0m\u001b[0mylabel\u001b[0m\u001b[0;34m(\u001b[0m\u001b[0;34m'Accuracy'\u001b[0m\u001b[0;34m)\u001b[0m\u001b[0;34m\u001b[0m\u001b[0m\n",
      "\u001b[0;32m/Library/Frameworks/Python.framework/Versions/2.7/lib/python2.7/site-packages/matplotlib/pyplot.pyc\u001b[0m in \u001b[0;36mbar\u001b[0;34m(*args, **kwargs)\u001b[0m\n\u001b[1;32m   2768\u001b[0m                       mplDeprecation)\n\u001b[1;32m   2769\u001b[0m     \u001b[0;32mtry\u001b[0m\u001b[0;34m:\u001b[0m\u001b[0;34m\u001b[0m\u001b[0m\n\u001b[0;32m-> 2770\u001b[0;31m         \u001b[0mret\u001b[0m \u001b[0;34m=\u001b[0m \u001b[0max\u001b[0m\u001b[0;34m.\u001b[0m\u001b[0mbar\u001b[0m\u001b[0;34m(\u001b[0m\u001b[0;34m*\u001b[0m\u001b[0margs\u001b[0m\u001b[0;34m,\u001b[0m \u001b[0;34m**\u001b[0m\u001b[0mkwargs\u001b[0m\u001b[0;34m)\u001b[0m\u001b[0;34m\u001b[0m\u001b[0m\n\u001b[0m\u001b[1;32m   2771\u001b[0m     \u001b[0;32mfinally\u001b[0m\u001b[0;34m:\u001b[0m\u001b[0;34m\u001b[0m\u001b[0m\n\u001b[1;32m   2772\u001b[0m         \u001b[0max\u001b[0m\u001b[0;34m.\u001b[0m\u001b[0m_hold\u001b[0m \u001b[0;34m=\u001b[0m \u001b[0mwashold\u001b[0m\u001b[0;34m\u001b[0m\u001b[0m\n",
      "\u001b[0;32m/Library/Frameworks/Python.framework/Versions/2.7/lib/python2.7/site-packages/matplotlib/__init__.pyc\u001b[0m in \u001b[0;36minner\u001b[0;34m(ax, *args, **kwargs)\u001b[0m\n\u001b[1;32m   1853\u001b[0m                         \u001b[0;34m\"the Matplotlib list!)\"\u001b[0m \u001b[0;34m%\u001b[0m \u001b[0;34m(\u001b[0m\u001b[0mlabel_namer\u001b[0m\u001b[0;34m,\u001b[0m \u001b[0mfunc\u001b[0m\u001b[0;34m.\u001b[0m\u001b[0m__name__\u001b[0m\u001b[0;34m)\u001b[0m\u001b[0;34m,\u001b[0m\u001b[0;34m\u001b[0m\u001b[0m\n\u001b[1;32m   1854\u001b[0m                         RuntimeWarning, stacklevel=2)\n\u001b[0;32m-> 1855\u001b[0;31m             \u001b[0;32mreturn\u001b[0m \u001b[0mfunc\u001b[0m\u001b[0;34m(\u001b[0m\u001b[0max\u001b[0m\u001b[0;34m,\u001b[0m \u001b[0;34m*\u001b[0m\u001b[0margs\u001b[0m\u001b[0;34m,\u001b[0m \u001b[0;34m**\u001b[0m\u001b[0mkwargs\u001b[0m\u001b[0;34m)\u001b[0m\u001b[0;34m\u001b[0m\u001b[0m\n\u001b[0m\u001b[1;32m   1856\u001b[0m \u001b[0;34m\u001b[0m\u001b[0m\n\u001b[1;32m   1857\u001b[0m         inner.__doc__ = _add_data_doc(inner.__doc__,\n",
      "\u001b[0;32m/Library/Frameworks/Python.framework/Versions/2.7/lib/python2.7/site-packages/matplotlib/axes/_axes.pyc\u001b[0m in \u001b[0;36mbar\u001b[0;34m(self, *args, **kwargs)\u001b[0m\n\u001b[1;32m   2231\u001b[0m         x, height, width, y, linewidth = np.broadcast_arrays(\n\u001b[1;32m   2232\u001b[0m             \u001b[0;31m# Make args iterable too.\u001b[0m\u001b[0;34m\u001b[0m\u001b[0;34m\u001b[0m\u001b[0m\n\u001b[0;32m-> 2233\u001b[0;31m             np.atleast_1d(x), height, width, y, linewidth)\n\u001b[0m\u001b[1;32m   2234\u001b[0m \u001b[0;34m\u001b[0m\u001b[0m\n\u001b[1;32m   2235\u001b[0m         \u001b[0;31m# Now that units have been converted, set the tick locations.\u001b[0m\u001b[0;34m\u001b[0m\u001b[0;34m\u001b[0m\u001b[0m\n",
      "\u001b[0;32m/Library/Frameworks/Python.framework/Versions/2.7/lib/python2.7/site-packages/numpy/lib/stride_tricks.pyc\u001b[0m in \u001b[0;36mbroadcast_arrays\u001b[0;34m(*args, **kwargs)\u001b[0m\n\u001b[1;32m    247\u001b[0m     \u001b[0margs\u001b[0m \u001b[0;34m=\u001b[0m \u001b[0;34m[\u001b[0m\u001b[0mnp\u001b[0m\u001b[0;34m.\u001b[0m\u001b[0marray\u001b[0m\u001b[0;34m(\u001b[0m\u001b[0m_m\u001b[0m\u001b[0;34m,\u001b[0m \u001b[0mcopy\u001b[0m\u001b[0;34m=\u001b[0m\u001b[0mFalse\u001b[0m\u001b[0;34m,\u001b[0m \u001b[0msubok\u001b[0m\u001b[0;34m=\u001b[0m\u001b[0msubok\u001b[0m\u001b[0;34m)\u001b[0m \u001b[0;32mfor\u001b[0m \u001b[0m_m\u001b[0m \u001b[0;32min\u001b[0m \u001b[0margs\u001b[0m\u001b[0;34m]\u001b[0m\u001b[0;34m\u001b[0m\u001b[0m\n\u001b[1;32m    248\u001b[0m \u001b[0;34m\u001b[0m\u001b[0m\n\u001b[0;32m--> 249\u001b[0;31m     \u001b[0mshape\u001b[0m \u001b[0;34m=\u001b[0m \u001b[0m_broadcast_shape\u001b[0m\u001b[0;34m(\u001b[0m\u001b[0;34m*\u001b[0m\u001b[0margs\u001b[0m\u001b[0;34m)\u001b[0m\u001b[0;34m\u001b[0m\u001b[0m\n\u001b[0m\u001b[1;32m    250\u001b[0m \u001b[0;34m\u001b[0m\u001b[0m\n\u001b[1;32m    251\u001b[0m     \u001b[0;32mif\u001b[0m \u001b[0mall\u001b[0m\u001b[0;34m(\u001b[0m\u001b[0marray\u001b[0m\u001b[0;34m.\u001b[0m\u001b[0mshape\u001b[0m \u001b[0;34m==\u001b[0m \u001b[0mshape\u001b[0m \u001b[0;32mfor\u001b[0m \u001b[0marray\u001b[0m \u001b[0;32min\u001b[0m \u001b[0margs\u001b[0m\u001b[0;34m)\u001b[0m\u001b[0;34m:\u001b[0m\u001b[0;34m\u001b[0m\u001b[0m\n",
      "\u001b[0;32m/Library/Frameworks/Python.framework/Versions/2.7/lib/python2.7/site-packages/numpy/lib/stride_tricks.pyc\u001b[0m in \u001b[0;36m_broadcast_shape\u001b[0;34m(*args)\u001b[0m\n\u001b[1;32m    182\u001b[0m     \u001b[0;31m# use the old-iterator because np.nditer does not handle size 0 arrays\u001b[0m\u001b[0;34m\u001b[0m\u001b[0;34m\u001b[0m\u001b[0m\n\u001b[1;32m    183\u001b[0m     \u001b[0;31m# consistently\u001b[0m\u001b[0;34m\u001b[0m\u001b[0;34m\u001b[0m\u001b[0m\n\u001b[0;32m--> 184\u001b[0;31m     \u001b[0mb\u001b[0m \u001b[0;34m=\u001b[0m \u001b[0mnp\u001b[0m\u001b[0;34m.\u001b[0m\u001b[0mbroadcast\u001b[0m\u001b[0;34m(\u001b[0m\u001b[0;34m*\u001b[0m\u001b[0margs\u001b[0m\u001b[0;34m[\u001b[0m\u001b[0;34m:\u001b[0m\u001b[0;36m32\u001b[0m\u001b[0;34m]\u001b[0m\u001b[0;34m)\u001b[0m\u001b[0;34m\u001b[0m\u001b[0m\n\u001b[0m\u001b[1;32m    185\u001b[0m     \u001b[0;31m# unfortunately, it cannot handle 32 or more arguments directly\u001b[0m\u001b[0;34m\u001b[0m\u001b[0;34m\u001b[0m\u001b[0m\n\u001b[1;32m    186\u001b[0m     \u001b[0;32mfor\u001b[0m \u001b[0mpos\u001b[0m \u001b[0;32min\u001b[0m \u001b[0mrange\u001b[0m\u001b[0;34m(\u001b[0m\u001b[0;36m32\u001b[0m\u001b[0;34m,\u001b[0m \u001b[0mlen\u001b[0m\u001b[0;34m(\u001b[0m\u001b[0margs\u001b[0m\u001b[0;34m)\u001b[0m\u001b[0;34m,\u001b[0m \u001b[0;36m31\u001b[0m\u001b[0;34m)\u001b[0m\u001b[0;34m:\u001b[0m\u001b[0;34m\u001b[0m\u001b[0m\n",
      "\u001b[0;31mValueError\u001b[0m: shape mismatch: objects cannot be broadcast to a single shape"
     ]
    },
    {
     "data": {
      "image/png": "[encoded data removed]",
      "text/plain": [
       "<Figure size 432x288 with 1 Axes>"
      ]
     },
     "metadata": {},
     "output_type": "display_data"
    }
   ],
   "source": [
    "import matplotlib.pyplot as plt\n",
    "import numpy as\n",
    "plt.bar(['Tree','SVM','KNN'],[accuracy_decision,accuracy_SVM,accuracy_KNN], alpha = 0.5)\n",
    "plt.xlabel('Classifiers')\n",
    "plt.ylabel('Accuracy')\n",
    "plt.show()"
   ]
  },
  {
   "cell_type": "code",
   "execution_count": null,
   "metadata": {},
   "outputs": [],
   "source": []
  }
 ],
 "metadata": {
  "kernelspec": {
   "display_name": "Python 3",
   "language": "python",
   "name": "python3"
  },
  "language_info": {
   "codemirror_mode": {
    "name": "ipython",
    "version": 2
   },
   "file_extension": ".py",
   "mimetype": "text/x-python",
   "name": "python",
   "nbconvert_exporter": "python",
   "pygments_lexer": "ipython2",
   "version": "2.7.14"
  }
 },
 "nbformat": 4,
 "nbformat_minor": 2
}
