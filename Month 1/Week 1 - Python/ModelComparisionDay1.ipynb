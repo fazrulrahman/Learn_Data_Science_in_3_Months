{
 "cells": [
  {
   "cell_type": "markdown",
   "metadata": {},
   "source": [
    "### Let's use following models to train and we will test which performs best\n",
    "<p>1. Decision Tree </p>\n",
    "<p>2. SVM </p>\n",
    "<p>3. KNN </p>"
   ]
  },
  {
   "cell_type": "code",
   "execution_count": 41,
   "metadata": {},
   "outputs": [],
   "source": [
    "from sklearn.datasets import make_classification\n",
    "from sklearn.model_selection import train_test_split\n",
    "\n",
    "# creating a random data\n",
    "X, y = make_classification(n_samples = 1000, n_features = 15, n_classes = 3, n_informative = 5)\n",
    "\n",
    "# Splitting for test and train\n",
    "X_train, X_test, y_train, y_test = train_test_split(X, y, test_size=0.3)"
   ]
  },
  {
   "cell_type": "markdown",
   "metadata": {},
   "source": [
    "## Decision tree"
   ]
  },
  {
   "cell_type": "code",
   "execution_count": 42,
   "metadata": {},
   "outputs": [
    {
     "data": {
      "text/plain": [
       "array([0, 0, 1, 2, 2, 2, 0, 1, 0, 1, 2, 1, 2, 2, 1, 1, 1, 0, 0, 0, 2, 0,\n",
       "       2, 0, 1, 2, 1, 1, 2, 2, 1, 2, 2, 0, 2, 0, 0, 1, 2, 2, 1, 1, 2, 2,\n",
       "       0, 2, 0, 2, 1, 2, 2, 0, 1, 0, 1, 0, 1, 1, 1, 2, 1, 2, 2, 1, 1, 2,\n",
       "       1, 1, 0, 2, 1, 2, 1, 0, 1, 0, 1, 1, 2, 2, 2, 0, 2, 0, 1, 2, 0, 1,\n",
       "       0, 2, 0, 1, 0, 2, 1, 0, 1, 1, 0, 0, 0, 1, 0, 0, 1, 0, 0, 2, 2, 0,\n",
       "       0, 0, 2, 0, 0, 2, 2, 2, 0, 1, 2, 1, 2, 1, 0, 2, 1, 2, 1, 2, 1, 0,\n",
       "       0, 1, 1, 2, 0, 1, 2, 2, 0, 2, 1, 0, 1, 1, 0, 2, 1, 1, 0, 1, 2, 2,\n",
       "       2, 2, 0, 1, 0, 2, 1, 1, 2, 2, 0, 0, 0, 2, 0, 2, 2, 1, 1, 0, 2, 2,\n",
       "       0, 1, 2, 2, 2, 1, 1, 0, 1, 2, 2, 0, 1, 1, 2, 1, 1, 0, 2, 0, 0, 2,\n",
       "       0, 0, 1, 0, 2, 2, 1, 0, 2, 2, 0, 2, 1, 2, 1, 1, 2, 2, 1, 1, 1, 2,\n",
       "       0, 2, 1, 2, 1, 0, 0, 1, 0, 2, 1, 1, 2, 2, 1, 2, 0, 0, 0, 2, 1, 1,\n",
       "       1, 0, 1, 2, 2, 2, 2, 2, 1, 2, 0, 1, 0, 0, 0, 1, 2, 2, 2, 1, 2, 1,\n",
       "       1, 2, 2, 2, 2, 2, 0, 1, 0, 1, 0, 2, 2, 0, 0, 1, 1, 1, 0, 1, 1, 2,\n",
       "       0, 1, 0, 1, 0, 1, 0, 1, 2, 0, 2, 1, 0, 0])"
      ]
     },
     "execution_count": 42,
     "metadata": {},
     "output_type": "execute_result"
    }
   ],
   "source": [
    "from sklearn import tree\n",
    "clf_tree = tree.DecisionTreeClassifier()\n",
    "clf_tree = clf_tree.fit(X_train,y_train)\n",
    "\n",
    "predict_tree = clf_tree.predict(X_test)\n",
    "predict_tree"
   ]
  },
  {
   "cell_type": "markdown",
   "metadata": {},
   "source": [
    "## SVM"
   ]
  },
  {
   "cell_type": "code",
   "execution_count": 43,
   "metadata": {},
   "outputs": [
    {
     "data": {
      "text/plain": [
       "array([0, 0, 0, 0, 2, 2, 0, 1, 0, 0, 2, 1, 2, 2, 1, 2, 2, 0, 2, 0, 2, 0,\n",
       "       1, 2, 1, 1, 1, 2, 2, 2, 1, 2, 2, 0, 2, 0, 0, 2, 2, 2, 1, 2, 1, 1,\n",
       "       0, 1, 0, 2, 1, 2, 2, 0, 1, 0, 1, 0, 1, 2, 1, 2, 1, 2, 1, 1, 1, 0,\n",
       "       1, 1, 0, 1, 1, 2, 1, 0, 1, 0, 2, 1, 0, 2, 2, 2, 2, 0, 1, 0, 0, 1,\n",
       "       2, 2, 0, 1, 1, 2, 1, 0, 1, 1, 0, 0, 0, 0, 2, 2, 1, 0, 0, 1, 1, 0,\n",
       "       0, 0, 2, 0, 0, 2, 1, 1, 0, 1, 2, 1, 1, 2, 0, 2, 0, 2, 1, 2, 1, 0,\n",
       "       2, 1, 0, 1, 0, 2, 2, 1, 0, 2, 0, 2, 2, 1, 0, 2, 0, 1, 1, 1, 2, 2,\n",
       "       0, 2, 0, 1, 2, 2, 1, 1, 2, 2, 0, 0, 0, 2, 0, 1, 2, 0, 1, 0, 0, 2,\n",
       "       0, 1, 2, 2, 1, 0, 1, 0, 1, 2, 2, 1, 1, 0, 2, 2, 1, 0, 2, 0, 0, 2,\n",
       "       1, 0, 1, 0, 2, 2, 1, 0, 2, 2, 0, 1, 2, 2, 1, 2, 2, 2, 1, 2, 0, 0,\n",
       "       0, 2, 0, 0, 1, 1, 0, 1, 0, 2, 2, 1, 2, 2, 1, 2, 2, 0, 0, 0, 1, 0,\n",
       "       1, 0, 2, 2, 2, 2, 2, 2, 1, 2, 0, 1, 0, 0, 0, 1, 1, 2, 1, 0, 0, 0,\n",
       "       1, 2, 0, 2, 1, 2, 2, 1, 0, 1, 0, 2, 2, 0, 2, 1, 1, 1, 0, 1, 0, 2,\n",
       "       0, 2, 0, 1, 2, 1, 2, 1, 2, 0, 2, 1, 0, 0])"
      ]
     },
     "execution_count": 43,
     "metadata": {},
     "output_type": "execute_result"
    }
   ],
   "source": [
    "from sklearn.svm import SVC\n",
    "\n",
    "clf_svm = SVC()\n",
    "clf_svm = clf_svm.fit(X_train, y_train)\n",
    "\n",
    "predict_svm = clf_svm.predict(X_test)\n",
    "predict_svm"
   ]
  },
  {
   "cell_type": "markdown",
   "metadata": {},
   "source": [
    "## KNN"
   ]
  },
  {
   "cell_type": "code",
   "execution_count": 44,
   "metadata": {},
   "outputs": [
    {
     "data": {
      "text/plain": [
       "array([0, 0, 0, 0, 2, 2, 0, 1, 0, 0, 2, 1, 2, 0, 2, 0, 2, 0, 2, 0, 2, 0,\n",
       "       1, 2, 1, 2, 1, 2, 2, 1, 1, 2, 2, 0, 2, 0, 0, 2, 2, 1, 1, 0, 1, 1,\n",
       "       1, 1, 0, 2, 1, 2, 1, 0, 1, 0, 1, 0, 1, 1, 1, 2, 1, 2, 1, 1, 1, 0,\n",
       "       1, 1, 0, 1, 1, 2, 1, 0, 1, 0, 2, 1, 0, 2, 2, 2, 2, 0, 1, 0, 0, 1,\n",
       "       2, 1, 0, 1, 0, 2, 1, 0, 1, 1, 0, 0, 0, 0, 2, 2, 1, 0, 0, 1, 2, 0,\n",
       "       0, 0, 2, 0, 0, 2, 2, 1, 0, 1, 2, 1, 2, 2, 0, 2, 0, 2, 1, 2, 1, 0,\n",
       "       2, 1, 0, 1, 0, 2, 2, 1, 0, 0, 0, 2, 2, 1, 0, 1, 1, 1, 1, 1, 2, 2,\n",
       "       0, 2, 0, 1, 2, 1, 1, 1, 2, 2, 0, 0, 0, 1, 0, 0, 2, 0, 1, 0, 0, 1,\n",
       "       0, 0, 2, 2, 1, 0, 1, 0, 1, 0, 2, 0, 1, 2, 2, 1, 2, 0, 2, 0, 0, 2,\n",
       "       1, 0, 2, 0, 2, 2, 2, 0, 2, 2, 0, 1, 2, 2, 1, 1, 2, 2, 1, 2, 0, 0,\n",
       "       0, 2, 0, 0, 1, 1, 0, 1, 0, 2, 0, 1, 2, 2, 1, 2, 1, 0, 0, 0, 1, 0,\n",
       "       1, 0, 2, 2, 0, 2, 2, 2, 1, 2, 0, 1, 0, 0, 0, 1, 0, 2, 1, 0, 0, 0,\n",
       "       1, 1, 0, 2, 1, 2, 2, 1, 0, 1, 0, 2, 1, 0, 2, 1, 0, 0, 0, 1, 0, 2,\n",
       "       0, 2, 0, 1, 2, 1, 2, 1, 2, 0, 2, 1, 0, 0])"
      ]
     },
     "execution_count": 44,
     "metadata": {},
     "output_type": "execute_result"
    }
   ],
   "source": [
    "from sklearn.neighbors import KNeighborsClassifier as KNN\n",
    "\n",
    "clf_knn = KNN()\n",
    "clf_knn = clf_knn.fit(X_train, y_train)\n",
    "\n",
    "predict_knn = clf_knn.predict(X_test)\n",
    "predict_knn"
   ]
  },
  {
   "cell_type": "markdown",
   "metadata": {},
   "source": [
    "# Accuracy"
   ]
  },
  {
   "cell_type": "code",
   "execution_count": 46,
   "metadata": {},
   "outputs": [
    {
     "name": "stdout",
     "output_type": "stream",
     "text": [
      "Accuracy of Decision Tree : 0.6733333333333333\n",
      "Accuracy of SVM : 0.8533333333333334\n",
      "Accuracy of KNN : 0.7933333333333333\n"
     ]
    }
   ],
   "source": [
    "from sklearn.metrics import accuracy_score\n",
    "\n",
    "accuracy_decision = accuracy_score(y_test, predict_tree)\n",
    "accuracy_SVM = accuracy_score(y_test, predict_svm)\n",
    "accuracy_KNN = accuracy_score(y_test, predict_knn)\n",
    "\n",
    "print('Accuracy of Decision Tree : ' + str(accuracy_decision))\n",
    "print('Accuracy of SVM : ' + str(accuracy_SVM))\n",
    "print('Accuracy of KNN : ' + str(accuracy_KNN))"
   ]
  },
  {
   "cell_type": "code",
   "execution_count": 60,
   "metadata": {},
   "outputs": [
    {
     "data": {
      "image/png": "[encoded data removed]",
      "text/plain": [
       "<Figure size 432x288 with 1 Axes>"
      ]
     },
     "metadata": {},
     "output_type": "display_data"
    }
   ],
   "source": [
    "import matplotlib.pyplot as plt\n",
    "import numpy as np\n",
    "\n",
    "plt.bar(['Tree','SVM','KNN'],np.array([accuracy_decision,accuracy_SVM,accuracy_KNN])*100, alpha = 0.5)\n",
    "plt.xlabel('Classifiers')\n",
    "plt.ylabel('Accuracy (%)')\n",
    "plt.show()"
   ]
  }
 ],
 "metadata": {
  "kernelspec": {
   "display_name": "Python 3",
   "language": "python",
   "name": "python3"
  },
  "language_info": {
   "codemirror_mode": {
    "name": "ipython",
    "version": 2
   },
   "file_extension": ".py",
   "mimetype": "text/x-python",
   "name": "python",
   "nbconvert_exporter": "python",
   "pygments_lexer": "ipython2",
   "version": "2.7.14"
  }
 },
 "nbformat": 4,
 "nbformat_minor": 2
}
